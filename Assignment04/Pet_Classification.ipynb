{
  "nbformat": 4,
  "nbformat_minor": 0,
  "metadata": {
    "colab": {
      "provenance": [],
      "gpuType": "T4"
    },
    "kernelspec": {
      "name": "python3",
      "display_name": "Python 3"
    },
    "language_info": {
      "name": "python"
    },
    "accelerator": "GPU"
  },
  "cells": [
    {
      "cell_type": "markdown",
      "source": [
        "# Pets Expression Classification"
      ],
      "metadata": {
        "id": "t820cuiMvHqC"
      }
    },
    {
      "cell_type": "code",
      "source": [
        "from google.colab import files\n",
        "from torchvision import datasets\n",
        "from torch.utils.data import DataLoader\n",
        "from torchvision.transforms import v2\n",
        "import torch\n",
        "import os\n",
        "import random\n",
        "from PIL import Image\n",
        "import matplotlib.pyplot as plt\n",
        "import numpy as np\n",
        "import torch.nn as nn\n",
        "import torch.nn.functional as F\n",
        "import torch.optim as optim\n",
        "import torchvision.models as models\n",
        "from tqdm import tqdm\n",
        "from sklearn.metrics import accuracy_score, precision_score, recall_score, f1_score, confusion_matrix, classification_report\n",
        "from torchvision.transforms.functional import to_pil_image"
      ],
      "metadata": {
        "id": "Qg-8y1krqAl0"
      },
      "execution_count": 1,
      "outputs": []
    },
    {
      "cell_type": "code",
      "source": [
        "def set_seed(seed=42):\n",
        "    random.seed(seed)\n",
        "    np.random.seed(seed)\n",
        "    torch.manual_seed(seed)\n",
        "    torch.cuda.manual_seed(seed)\n",
        "    torch.cuda.manual_seed_all(seed)\n",
        "    torch.backends.cudnn.deterministic = True\n",
        "    torch.backends.cudnn.benchmark = False\n",
        "\n",
        "set_seed(42)\n"
      ],
      "metadata": {
        "id": "fgXj1EJzgQkB"
      },
      "execution_count": 2,
      "outputs": []
    },
    {
      "cell_type": "markdown",
      "source": [
        "**Dataset Preparation**"
      ],
      "metadata": {
        "id": "TFa2xL1SvF5K"
      }
    },
    {
      "cell_type": "code",
      "source": [
        "import kagglehub\n",
        "\n",
        "# Download latest version\n",
        "path = kagglehub.dataset_download(\"anshtanwar/pets-facial-expression-dataset\")\n",
        "\n",
        "print(\"Path to dataset files:\", path)"
      ],
      "metadata": {
        "colab": {
          "base_uri": "https://localhost:8080/"
        },
        "id": "HdpwkvMWrVdw",
        "outputId": "18bc83c1-075b-43af-b5d8-d64cbd8f2c74"
      },
      "execution_count": 3,
      "outputs": [
        {
          "output_type": "stream",
          "name": "stdout",
          "text": [
            "Path to dataset files: /kaggle/input/pets-facial-expression-dataset\n"
          ]
        }
      ]
    },
    {
      "cell_type": "code",
      "source": [
        "data_path=path+\"/Master Folder\""
      ],
      "metadata": {
        "id": "cKShkqjAvVP6"
      },
      "execution_count": 4,
      "outputs": []
    },
    {
      "cell_type": "markdown",
      "source": [
        "Validation and Test Transformations"
      ],
      "metadata": {
        "id": "rigBbOqKvXQK"
      }
    },
    {
      "cell_type": "code",
      "source": [
        "val_test_transforms = v2.Compose([\n",
        "    v2.Resize((224, 224), antialias=True), # resizing to the standard input size\n",
        "    v2.ToTensor(),\n",
        "    v2.ToDtype(torch.float32, scale=True),\n",
        "    v2.Normalize(mean=[0.5, 0.5, 0.5], std=[0.5, 0.5, 0.5]),\n",
        "])"
      ],
      "metadata": {
        "id": "mExZnH-KvcG0",
        "colab": {
          "base_uri": "https://localhost:8080/"
        },
        "outputId": "dd3631cc-1607-4fc9-c2ea-e431a0309d02"
      },
      "execution_count": 5,
      "outputs": [
        {
          "output_type": "stream",
          "name": "stderr",
          "text": [
            "/usr/local/lib/python3.11/dist-packages/torchvision/transforms/v2/_deprecated.py:42: UserWarning: The transform `ToTensor()` is deprecated and will be removed in a future release. Instead, please use `v2.Compose([v2.ToImage(), v2.ToDtype(torch.float32, scale=True)])`.Output is equivalent up to float precision.\n",
            "  warnings.warn(\n"
          ]
        }
      ]
    },
    {
      "cell_type": "markdown",
      "source": [
        "Training Transformation"
      ],
      "metadata": {
        "id": "tQMR0NTJveT7"
      }
    },
    {
      "cell_type": "code",
      "source": [
        "train_transforms = v2.Compose([\n",
        "    v2.RandomResizedCrop(size=(224, 224), antialias=True),  # Augmentation\n",
        "    v2.RandomHorizontalFlip(p=0.5),\n",
        "    v2.ToTensor(),\n",
        "    v2.ToDtype(torch.float32, scale=True),\n",
        "    v2.Normalize(mean=[0.5, 0.5, 0.5], std=[0.5, 0.5, 0.5]),\n",
        "])"
      ],
      "metadata": {
        "id": "iLYPn2a4vg8s"
      },
      "execution_count": 6,
      "outputs": []
    },
    {
      "cell_type": "markdown",
      "source": [
        "Dataset Loading"
      ],
      "metadata": {
        "id": "5ElXWUg0vxBc"
      }
    },
    {
      "cell_type": "code",
      "source": [
        "train_dataset = datasets.ImageFolder(root=f\"{data_path}/train\", transform=train_transforms)\n",
        "valid_dataset = datasets.ImageFolder(root=f\"{data_path}/valid\", transform=val_test_transforms)\n",
        "test_dataset  = datasets.ImageFolder(root=f\"{data_path}/test\",  transform=val_test_transforms)"
      ],
      "metadata": {
        "id": "XNJ26pUWvzEc"
      },
      "execution_count": 7,
      "outputs": []
    },
    {
      "cell_type": "markdown",
      "source": [
        "Create Dataloaders"
      ],
      "metadata": {
        "id": "kE_yg3a_wB_O"
      }
    },
    {
      "cell_type": "code",
      "source": [
        "train_loader = DataLoader(train_dataset, batch_size=32, shuffle=True)\n",
        "valid_loader = DataLoader(valid_dataset, batch_size=32, shuffle=False)\n",
        "test_loader  = DataLoader(test_dataset,  batch_size=32, shuffle=False)"
      ],
      "metadata": {
        "id": "VvNkU3cxruEz"
      },
      "execution_count": 8,
      "outputs": []
    },
    {
      "cell_type": "code",
      "source": [
        "len(train_loader), len(valid_loader), len(test_loader)"
      ],
      "metadata": {
        "colab": {
          "base_uri": "https://localhost:8080/"
        },
        "id": "bmsAmc1kjqnS",
        "outputId": "f6bea60e-d2bc-487d-b2b4-9ef72381a7a8"
      },
      "execution_count": 9,
      "outputs": [
        {
          "output_type": "execute_result",
          "data": {
            "text/plain": [
              "(32, 2, 2)"
            ]
          },
          "metadata": {},
          "execution_count": 9
        }
      ]
    },
    {
      "cell_type": "code",
      "source": [
        "print(\"Class labels:\", train_dataset.classes)"
      ],
      "metadata": {
        "colab": {
          "base_uri": "https://localhost:8080/"
        },
        "id": "qHkSFJELsrR-",
        "outputId": "ca2e0f0f-ddec-4600-e50b-4bb70480d712"
      },
      "execution_count": 10,
      "outputs": [
        {
          "output_type": "stream",
          "name": "stdout",
          "text": [
            "Class labels: ['Angry', 'Other', 'Sad', 'happy']\n"
          ]
        }
      ]
    },
    {
      "cell_type": "code",
      "source": [
        "images, labels = next(iter(test_loader))\n",
        "print(images.shape)\n",
        "print(images[0].shape)\n",
        "print(labels)\n"
      ],
      "metadata": {
        "colab": {
          "base_uri": "https://localhost:8080/"
        },
        "id": "2g7NjPLwwLyA",
        "outputId": "1e58dae1-4929-4922-9f1f-84d3afe4b242"
      },
      "execution_count": 11,
      "outputs": [
        {
          "output_type": "stream",
          "name": "stdout",
          "text": [
            "torch.Size([32, 3, 224, 224])\n",
            "torch.Size([3, 224, 224])\n",
            "tensor([0, 0, 0, 0, 0, 0, 0, 0, 0, 0, 1, 1, 1, 1, 1, 1, 2, 2, 2, 2, 2, 2, 2, 2,\n",
            "        2, 2, 2, 3, 3, 3, 3, 3])\n"
          ]
        }
      ]
    },
    {
      "cell_type": "code",
      "source": [
        "np.max(np.array(images[0]))"
      ],
      "metadata": {
        "colab": {
          "base_uri": "https://localhost:8080/"
        },
        "id": "0Ie0_T4PKcR2",
        "outputId": "43945d92-e829-4425-d238-ccb2962154e6"
      },
      "execution_count": 12,
      "outputs": [
        {
          "output_type": "execute_result",
          "data": {
            "text/plain": [
              "np.float32(0.96862745)"
            ]
          },
          "metadata": {},
          "execution_count": 12
        }
      ]
    },
    {
      "cell_type": "code",
      "source": [
        "class_names=train_dataset.classes"
      ],
      "metadata": {
        "id": "Rl0pNv_YLjpl"
      },
      "execution_count": 13,
      "outputs": []
    },
    {
      "cell_type": "code",
      "source": [
        "device = torch.device('cuda' if torch.cuda.is_available() else 'cpu')"
      ],
      "metadata": {
        "id": "Mft5mZ90jGB2"
      },
      "execution_count": 14,
      "outputs": []
    },
    {
      "cell_type": "code",
      "source": [
        "def train(lrs,epochs,train_loader,valid_loader,model_name,device):\n",
        "  loss_function = nn.CrossEntropyLoss()\n",
        "  losses=[]\n",
        "  models=[]\n",
        "  accuracies=[]\n",
        "  best_epoch=0\n",
        "  best_lr=0\n",
        "  best_accuracy=0\n",
        "  best_model=None\n",
        "  #print(lrs,epochs)\n",
        "  for lr in lrs:\n",
        "    #print(\"ana hena\")\n",
        "    for epoch in epochs:\n",
        "        #print(lrs,epochs)\n",
        "        print(f\"Training with Learning Rate = {lr} and Epochs = {epoch}\")\n",
        "        if model_name ==\"vgg\":\n",
        "          model = VGG16().to(device)\n",
        "        elif model_name==\"resnet\":\n",
        "          model = ResNet(block,[3,4,6,3],4).to(device)\n",
        "        else :\n",
        "          model=InceptionV3().to(device)\n",
        "        optimizer = optim.Adam(model.parameters(), lr=lr)\n",
        "        run_loss = []\n",
        "\n",
        "        for e in range(epoch):\n",
        "            training_loss = 0.0\n",
        "            for i, data in enumerate(train_loader):\n",
        "                images, labels = data\n",
        "                images, labels = images.to(device), labels.to(device)\n",
        "                optimizer.zero_grad()  # Reset the grads\n",
        "                outputs = model(images)  # Forward pass\n",
        "                loss = loss_function(outputs, labels)\n",
        "                training_loss += loss.item()\n",
        "                loss.backward()  # Backpropagation\n",
        "                optimizer.step()\n",
        "                run_loss.append(loss.item())\n",
        "\n",
        "            if (e + 1) % 10 == 0:\n",
        "                print(f\"Epoch = {e+1}/{epoch} | Learning Rate = {lr} | Loss = {training_loss/len(train_loader):.4f}\")\n",
        "\n",
        "                # --- Save checkpoint every 10 epochs ---\n",
        "                # checkpoint_path = f\"checkpoints/{model_name}_lr{lr}_epoch{e+1}.pt\"\n",
        "                # torch.save({\n",
        "                #     'epoch': e + 1,\n",
        "                #     'model_state_dict': model.state_dict(),\n",
        "                #     'optimizer_state_dict': optimizer.state_dict(),\n",
        "                #     'loss': training_loss,\n",
        "                # }, checkpoint_path)\n",
        "                # print(f\"Checkpoint saved: {checkpoint_path}\")\n",
        "\n",
        "        losses.append(run_loss)\n",
        "        #models.append(model)\n",
        "\n",
        "        # Evaluate each network on the Validation set\n",
        "        correct = 0\n",
        "        total = 0\n",
        "        model.eval()\n",
        "        with torch.no_grad():\n",
        "            for images, labels in valid_loader:\n",
        "                images, labels = images.to(device), labels.to(device)\n",
        "                outputs = model(images)\n",
        "                _, predicted = torch.max(outputs.data, 1)\n",
        "                total += labels.size(0)\n",
        "                correct += (predicted == labels).sum().item()\n",
        "\n",
        "        accuracy = 100 * correct / total\n",
        "        accuracies.append(accuracy)\n",
        "        print(f\"Validation Accuracy = {accuracy:.2f}%\")\n",
        "\n",
        "        model.train()  # Return model to training mode\n",
        "        if accuracy > best_accuracy:\n",
        "            best_accuracy = accuracy\n",
        "            best_lr = lr\n",
        "            best_epoch = epoch\n",
        "            best_model_state = model.state_dict()\n",
        "            best_model=model\n",
        "        #print(lrs,epochs)\n",
        "\n",
        "\n",
        "  return best_model,losses,accuracies\n",
        "\n"
      ],
      "metadata": {
        "id": "qFuu27-eQ9ZW"
      },
      "execution_count": 15,
      "outputs": []
    },
    {
      "cell_type": "code",
      "source": [
        "def plot_loss(loss,length,accuracies):\n",
        "# Convert batch-level loss into epoch-level average loss\n",
        "  epoch_losses = [\n",
        "      sum(loss[i * length : (i + 1) * length]) / length\n",
        "      for i in range(len(loss) // length)\n",
        "  ]\n",
        "  plt.figure(figsize=(10, 5))\n",
        "  plt.plot(range(len(epoch_losses)), epoch_losses, label='Training Loss')\n",
        "  plt.xlabel(\"Iterations\")\n",
        "  plt.ylabel(\"Loss\")\n",
        "  plt.title(f\"Training Loss for Best Model (Accuracy: {accuracies[best_index]:.2f}%)\")\n",
        "  plt.legend()\n",
        "  plt.grid(True)\n",
        "  plt.show()\n",
        "\n",
        "\n"
      ],
      "metadata": {
        "id": "8SnWArByRGQN"
      },
      "execution_count": 16,
      "outputs": []
    },
    {
      "cell_type": "code",
      "source": [
        "def test(model,test_loader,device):\n",
        "  preds=[]\n",
        "  new_labels=[]\n",
        "  with torch.no_grad():\n",
        "    for data in test_loader:\n",
        "        images, labels = data\n",
        "        images, labels = images.to(device), labels.to(device)\n",
        "        outputs = model(images)\n",
        "\n",
        "        _, predicted = torch.max(outputs, 1)\n",
        "        preds.extend(predicted.cpu().numpy())\n",
        "        new_labels.extend(labels.cpu().numpy())\n",
        "    return new_labels,preds\n"
      ],
      "metadata": {
        "id": "1UgwHGhsRKNu"
      },
      "execution_count": 17,
      "outputs": []
    },
    {
      "cell_type": "code",
      "source": [
        "def metrics(model,labels,preds):\n",
        "  acc = accuracy_score(labels, preds)\n",
        "\n",
        "  # Precision, Recall, F1-score\n",
        "  precision = precision_score(labels, preds, average='macro')\n",
        "  recall = recall_score(labels, preds, average='macro')\n",
        "  f1 = f1_score(labels, preds, average='macro')\n",
        "\n",
        "  # Confusion Matrix\n",
        "  cm = confusion_matrix(labels, preds)\n",
        "\n",
        "  # Full classification report\n",
        "  report = classification_report(labels, preds)\n",
        "\n",
        "  # Print\n",
        "  print(f\"Accuracy: {acc:.4f}\")\n",
        "  print(f\"Precision: {precision:.4f}\")\n",
        "  print(f\"Recall: {recall:.4f}\")\n",
        "  print(f\"F1-score: {f1:.4f}\")\n",
        "  print(\"\\nConfusion Matrix:\")\n",
        "  print(cm)\n",
        "  print(\"\\nClassification Report:\\n\", report)\n"
      ],
      "metadata": {
        "id": "0SRfAWY7RWPf"
      },
      "execution_count": 18,
      "outputs": []
    },
    {
      "cell_type": "code",
      "source": [
        "def test_images(test_dataset,class_names,preds):\n",
        "  random_index=np.random.randint(0, len(test_dataset))\n",
        "  image, label = test_dataset[random_index]\n",
        "  inv_normalize = v2.Normalize(\n",
        "      mean=[-1, -1, -1],\n",
        "      std=[2, 2, 2]\n",
        "  )\n",
        "  image_display = inv_normalize(image).clamp(0, 1)\n",
        "  actual_label=class_names[label]\n",
        "  predicted_class=preds[random_index]\n",
        "  predicted_label=class_names[predicted_class]\n",
        "  # Plot\n",
        "  plt.imshow(to_pil_image(image_display))\n",
        "  plt.title(f\"Actual: {actual_label} | Predicted: {predicted_label}\")\n",
        "  plt.axis('off')\n",
        "  plt.show()\n"
      ],
      "metadata": {
        "id": "giOAg06WRbOA"
      },
      "execution_count": 19,
      "outputs": []
    },
    {
      "cell_type": "markdown",
      "source": [
        "# Networks"
      ],
      "metadata": {
        "id": "thbAK36Hti1d"
      }
    },
    {
      "cell_type": "markdown",
      "source": [
        "Visual Geometry Group (VGG-16)"
      ],
      "metadata": {
        "id": "Hbkz34y3tohf"
      }
    },
    {
      "cell_type": "markdown",
      "source": [
        "![Alt text](https://miro.medium.com/v2/resize:fit:1100/format:webp/1*B_ZaaaBg2njhp8SThjCufA.png)"
      ],
      "metadata": {
        "id": "c-83fYlhMWBY"
      }
    },
    {
      "cell_type": "code",
      "source": [
        "class VGG16(nn.Module):\n",
        "    def __init__(self, num_classes=4):\n",
        "        super(VGG16, self).__init__()\n",
        "\n",
        "        self.features=nn.Sequential(\n",
        "            # Block 1\n",
        "            nn.Conv2d(in_channels=3, out_channels=64, kernel_size=3, padding=1),\n",
        "            nn.ReLU(inplace=True),\n",
        "            nn.Conv2d(in_channels=64, out_channels=64, kernel_size=3, padding=1),\n",
        "            nn.ReLU(inplace=True),\n",
        "            nn.MaxPool2d(kernel_size=2, stride=2),\n",
        "\n",
        "            #Block 2\n",
        "            nn.Conv2d(in_channels=64, out_channels=128, kernel_size=3, padding=1),\n",
        "            nn.ReLU(inplace=True),\n",
        "            nn.Conv2d(in_channels=128, out_channels=128, kernel_size=3, padding=1),\n",
        "            nn.ReLU(inplace=True),\n",
        "            nn.MaxPool2d(kernel_size=2, stride=2),\n",
        "\n",
        "            #Block 3\n",
        "            nn.Conv2d(in_channels=128, out_channels=256, kernel_size=3, padding=1),\n",
        "            nn.ReLU(inplace=True),\n",
        "            nn.Conv2d(in_channels=256, out_channels=256, kernel_size=3, padding=1),\n",
        "            nn.ReLU(inplace=True),\n",
        "            nn.Conv2d(in_channels=256, out_channels=256, kernel_size=3, padding=1),\n",
        "            nn.ReLU(inplace=True),\n",
        "            nn.MaxPool2d(kernel_size=2, stride=2),\n",
        "\n",
        "            #Block 4\n",
        "            nn.Conv2d(in_channels=256, out_channels=512, kernel_size=3, padding=1),\n",
        "            nn.ReLU(inplace=True),\n",
        "            nn.Conv2d(in_channels=512, out_channels=512, kernel_size=3, padding=1),\n",
        "            nn.ReLU(inplace=True),\n",
        "            nn.Conv2d(in_channels=512, out_channels=512, kernel_size=3, padding=1),\n",
        "            nn.ReLU(inplace=True),\n",
        "            nn.MaxPool2d(kernel_size=2, stride=2),\n",
        "\n",
        "            #Block 5\n",
        "            nn.Conv2d(in_channels=512, out_channels=512, kernel_size=3, padding=1),\n",
        "            nn.ReLU(inplace=True),\n",
        "            nn.Conv2d(in_channels=512, out_channels=512, kernel_size=3, padding=1),\n",
        "            nn.ReLU(inplace=True),\n",
        "            nn.Conv2d(in_channels=512, out_channels=512, kernel_size=3, padding=1),\n",
        "            nn.ReLU(inplace=True),\n",
        "            nn.MaxPool2d(kernel_size=2, stride=2),\n",
        "        )\n",
        "        #Fully Connected Layers\n",
        "        self.classifier=nn.Sequential(\n",
        "            nn.Flatten(),\n",
        "            nn.Linear(in_features=512*7*7, out_features=4096),\n",
        "            nn.ReLU(inplace=True),\n",
        "            nn.Dropout(p=0.5),\n",
        "            nn.Linear(in_features=4096, out_features=4096),\n",
        "            nn.ReLU(inplace=True),\n",
        "            nn.Dropout(p=0.5),\n",
        "            nn.Linear(in_features=4096, out_features=num_classes),\n",
        "        )\n",
        "\n",
        "    def forward(self, x):\n",
        "        x=self.features(x)\n",
        "        x=self.classifier(x)\n",
        "        return x\n",
        "\n",
        "\n"
      ],
      "metadata": {
        "id": "T29-lNNxxU5u"
      },
      "execution_count": 20,
      "outputs": []
    },
    {
      "cell_type": "markdown",
      "source": [
        "Training VGG"
      ],
      "metadata": {
        "id": "s_qcv_2KfdE-"
      }
    },
    {
      "cell_type": "code",
      "source": [
        "lrs=[0.00001,0.0001]\n",
        "epochs=[40,50]\n",
        "vgg_loss=[]\n",
        "models=[]\n",
        "accuracies=[]\n",
        "best_epoch=0\n",
        "best_lr=0\n",
        "best_accuracy=0\n",
        "os.makedirs(\"checkpoints\", exist_ok=True)"
      ],
      "metadata": {
        "id": "TP--F383gyGa"
      },
      "execution_count": 21,
      "outputs": []
    },
    {
      "cell_type": "markdown",
      "source": [
        "Best Model"
      ],
      "metadata": {
        "id": "9bE1cDbal8ab"
      }
    },
    {
      "cell_type": "code",
      "source": [
        "best_vgg_model,vgg_loss,vgg_accuracies=train(lrs,epochs,train_loader,valid_loader,'vgg',device)"
      ],
      "metadata": {
        "id": "N2yZ320GKJtd",
        "colab": {
          "base_uri": "https://localhost:8080/"
        },
        "outputId": "d271e374-ad0b-4da1-9215-c81008842cb3"
      },
      "execution_count": 22,
      "outputs": [
        {
          "output_type": "stream",
          "name": "stdout",
          "text": [
            "Training with Learning Rate = 1e-05 and Epochs = 40\n",
            "Epoch = 10/40 | Learning Rate = 1e-05 | Loss = 1.3864\n",
            "Epoch = 20/40 | Learning Rate = 1e-05 | Loss = 1.3867\n",
            "Epoch = 30/40 | Learning Rate = 1e-05 | Loss = 1.3864\n",
            "Epoch = 40/40 | Learning Rate = 1e-05 | Loss = 1.3865\n",
            "Validation Accuracy = 16.67%\n",
            "Training with Learning Rate = 1e-05 and Epochs = 50\n",
            "Epoch = 10/50 | Learning Rate = 1e-05 | Loss = 1.3863\n",
            "Epoch = 20/50 | Learning Rate = 1e-05 | Loss = 1.3864\n",
            "Epoch = 30/50 | Learning Rate = 1e-05 | Loss = 1.3865\n",
            "Epoch = 40/50 | Learning Rate = 1e-05 | Loss = 1.3837\n",
            "Epoch = 50/50 | Learning Rate = 1e-05 | Loss = 1.3515\n",
            "Validation Accuracy = 33.33%\n",
            "Training with Learning Rate = 0.0001 and Epochs = 40\n",
            "Epoch = 10/40 | Learning Rate = 0.0001 | Loss = 1.3868\n",
            "Epoch = 20/40 | Learning Rate = 0.0001 | Loss = 1.3868\n",
            "Epoch = 30/40 | Learning Rate = 0.0001 | Loss = 1.3867\n",
            "Epoch = 40/40 | Learning Rate = 0.0001 | Loss = 1.3862\n",
            "Validation Accuracy = 30.56%\n",
            "Training with Learning Rate = 0.0001 and Epochs = 50\n",
            "Epoch = 10/50 | Learning Rate = 0.0001 | Loss = 1.3865\n",
            "Epoch = 20/50 | Learning Rate = 0.0001 | Loss = 1.3867\n",
            "Epoch = 30/50 | Learning Rate = 0.0001 | Loss = 1.3867\n",
            "Epoch = 40/50 | Learning Rate = 0.0001 | Loss = 1.3864\n",
            "Epoch = 50/50 | Learning Rate = 0.0001 | Loss = 1.3864\n",
            "Validation Accuracy = 27.78%\n"
          ]
        }
      ]
    },
    {
      "cell_type": "code",
      "source": [
        "best_index=vgg_accuracies.index(max(vgg_accuracies))\n",
        "best_loss=vgg_loss[best_index]"
      ],
      "metadata": {
        "id": "aoWE5BWZk848"
      },
      "execution_count": 23,
      "outputs": []
    },
    {
      "cell_type": "code",
      "source": [
        "print(f\"Best model at index {best_index} with Accuracy = {vgg_accuracies[best_index]:.2f}%\")\n",
        "torch.save(best_vgg_model.state_dict(), 'best_vgg_model.pth')"
      ],
      "metadata": {
        "id": "--9yKmtXnD45",
        "colab": {
          "base_uri": "https://localhost:8080/"
        },
        "outputId": "204e9432-98c9-4f01-aa28-f1416abc7ce3"
      },
      "execution_count": 24,
      "outputs": [
        {
          "output_type": "stream",
          "name": "stdout",
          "text": [
            "Best model at index 1 with Accuracy = 33.33%\n"
          ]
        }
      ]
    },
    {
      "cell_type": "markdown",
      "source": [
        "Loss"
      ],
      "metadata": {
        "id": "RuHUx13ZnEd5"
      }
    },
    {
      "cell_type": "code",
      "source": [
        "plot_loss(best_loss,len(train_loader),vgg_accuracies)"
      ],
      "metadata": {
        "id": "FevJ4rWbMYMx",
        "colab": {
          "base_uri": "https://localhost:8080/",
          "height": 487
        },
        "outputId": "0818fcf3-b6af-426b-a200-aae93a86259b"
      },
      "execution_count": 25,
      "outputs": [
        {
          "output_type": "display_data",
          "data": {
            "text/plain": [
              "<Figure size 1000x500 with 1 Axes>"
            ],
            "image/png": "[encoded data removed]"
          },
          "metadata": {}
        }
      ]
    },
    {
      "cell_type": "markdown",
      "source": [
        "Evaluating the model"
      ],
      "metadata": {
        "id": "nsopBoYqmK3H"
      }
    },
    {
      "cell_type": "code",
      "source": [
        "labels,preds=test(best_vgg_model,test_loader,device)"
      ],
      "metadata": {
        "id": "E3UMLeEAMew6"
      },
      "execution_count": 26,
      "outputs": []
    },
    {
      "cell_type": "code",
      "source": [
        "metrics(best_vgg_model,labels,preds)"
      ],
      "metadata": {
        "id": "LANFsb82MmdD",
        "colab": {
          "base_uri": "https://localhost:8080/"
        },
        "outputId": "c7818fb3-f9c8-4200-d20e-7da41caf287e"
      },
      "execution_count": 27,
      "outputs": [
        {
          "output_type": "stream",
          "name": "stdout",
          "text": [
            "Accuracy: 0.2105\n",
            "Precision: 0.2159\n",
            "Recall: 0.2242\n",
            "F1-score: 0.2171\n",
            "\n",
            "Confusion Matrix:\n",
            "[[2 3 2 3]\n",
            " [1 2 1 2]\n",
            " [4 1 2 4]\n",
            " [4 2 3 2]]\n",
            "\n",
            "Classification Report:\n",
            "               precision    recall  f1-score   support\n",
            "\n",
            "           0       0.18      0.20      0.19        10\n",
            "           1       0.25      0.33      0.29         6\n",
            "           2       0.25      0.18      0.21        11\n",
            "           3       0.18      0.18      0.18        11\n",
            "\n",
            "    accuracy                           0.21        38\n",
            "   macro avg       0.22      0.22      0.22        38\n",
            "weighted avg       0.21      0.21      0.21        38\n",
            "\n"
          ]
        }
      ]
    },
    {
      "cell_type": "markdown",
      "source": [
        "Evaluating the model on the images"
      ],
      "metadata": {
        "id": "dHBxH21rnavj"
      }
    },
    {
      "cell_type": "code",
      "source": [
        "test_images(test_dataset,class_names,preds)"
      ],
      "metadata": {
        "id": "g7q6q_FzMr3w",
        "colab": {
          "base_uri": "https://localhost:8080/",
          "height": 428
        },
        "outputId": "6abeb164-782e-46a5-ba51-cc45cc3c1ba5"
      },
      "execution_count": 28,
      "outputs": [
        {
          "output_type": "display_data",
          "data": {
            "text/plain": [
              "<Figure size 640x480 with 1 Axes>"
            ],
            "image/png": "[encoded data removed]"
          },
          "metadata": {}
        }
      ]
    },
    {
      "cell_type": "markdown",
      "source": [
        "**ResNet**\n"
      ],
      "metadata": {
        "id": "FhorjKUdPq_X"
      }
    },
    {
      "cell_type": "markdown",
      "source": [
        "![Alt text](data:image/png;base64,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)"
      ],
      "metadata": {
        "id": "PDx3McetgbFm"
      }
    },
    {
      "cell_type": "markdown",
      "source": [
        "ResNet Bottleneck Block"
      ],
      "metadata": {
        "id": "NB34tBu_RBI0"
      }
    },
    {
      "cell_type": "markdown",
      "source": [
        "Instead of stacking the layers, resnet adds a shortcut => F(x) + x"
      ],
      "metadata": {
        "id": "teDeM2dPiPs-"
      }
    },
    {
      "cell_type": "code",
      "source": [
        "class block(nn.Module):\n",
        "  def __init__(self,in_channels,out_channels,identity_downsample=None,stride=1):\n",
        "    super(block,self).__init__()\n",
        "    self.expansion=4 #expands the channels\n",
        "    self.identity_downsample=identity_downsample # downsample the input if input dims!=output dims\n",
        "    self.block=nn.Sequential(\n",
        "        nn.Conv2d(in_channels,out_channels,kernel_size=1,stride=1), #reduce channels\n",
        "        nn.BatchNorm2d(out_channels),\n",
        "        nn.ReLU(inplace=True),\n",
        "        nn.Conv2d(out_channels,out_channels,3,stride,padding=1), #same size\n",
        "        nn.BatchNorm2d(out_channels),\n",
        "        nn.ReLU(inplace=True),\n",
        "        nn.Conv2d(out_channels,out_channels*self.expansion,kernel_size=1,stride=1), #expand\n",
        "        nn.BatchNorm2d(out_channels*self.expansion)\n",
        "    )\n",
        "    self.relu=nn.ReLU(inplace=True)\n",
        "\n",
        "  def forward(self,x):\n",
        "    identity=x\n",
        "    x=self.block(x)\n",
        "\n",
        "    if self.identity_downsample is not None:\n",
        "      identity=self.identity_downsample(identity) #match the shape with shortcut\n",
        "\n",
        "    x+=identity #residual connection\n",
        "    x=self.relu(x)\n",
        "    return x\n",
        "\n"
      ],
      "metadata": {
        "id": "lf1IZ5dVbuxS"
      },
      "execution_count": 29,
      "outputs": []
    },
    {
      "cell_type": "code",
      "source": [
        "class ResNet(nn.Module):\n",
        "  def __init__(self, block,layers,num_classes,image_channels=3) :\n",
        "     super(ResNet,self).__init__()\n",
        "     self.in_channels=64\n",
        "     self.conv1=nn.Conv2d(image_channels,64,7,stride=2,padding=3)\n",
        "     self.bn1=nn.BatchNorm2d(64)\n",
        "     self.relu=nn.ReLU(inplace=True)\n",
        "     self.maxpool=nn.MaxPool2d(3,2,1)\n",
        "\n",
        "\n",
        "     self.layer1=self.make_layer(block,layers[0],out_channels=64,stride=1)\n",
        "     self.layer2=self.make_layer(block,layers[1],out_channels=128,stride=2)\n",
        "     self.layer3=self.make_layer(block,layers[2],out_channels=256,stride=2)\n",
        "     self.layer4=self.make_layer(block,layers[3],out_channels=512,stride=2)\n",
        "\n",
        "     self.avgpool=nn.AdaptiveAvgPool2d((1,1))\n",
        "     self.fc=nn.Linear(512*4,num_classes)\n",
        "  def forward(self,x):\n",
        "    x=self.conv1(x)\n",
        "    x=self.bn1(x)\n",
        "    x=self.relu(x)\n",
        "    x=self.maxpool(x)\n",
        "\n",
        "    x=self.layer1(x)\n",
        "    x=self.layer2(x)\n",
        "    x=self.layer3(x)\n",
        "    x=self.layer4(x)\n",
        "    x=self.avgpool(x)\n",
        "    x=torch.flatten(x,1)\n",
        "    x=self.fc(x)\n",
        "    return x\n",
        "  # creates multiple blocks in a layer\n",
        "  def make_layer(self,block,num_res_blocks,out_channels,stride):\n",
        "    identity_downsample=None\n",
        "    layers=[]\n",
        "\n",
        "    if stride!=1 or self.in_channels!=out_channels*4:\n",
        "      identity_downsample=nn.Sequential(nn.Conv2d(self.in_channels,out_channels*4,1,stride),\n",
        "                                        nn.BatchNorm2d(out_channels*4))\n",
        "    layers.append(block(self.in_channels,out_channels,identity_downsample,stride))\n",
        "    self.in_channels=out_channels*4\n",
        "\n",
        "    for i in range(num_res_blocks-1):\n",
        "      layers.append(block(self.in_channels,out_channels))\n",
        "\n",
        "    return nn.Sequential(*layers)\n",
        "\n",
        "\n"
      ],
      "metadata": {
        "id": "4fcYgbc5CNEl"
      },
      "execution_count": 30,
      "outputs": []
    },
    {
      "cell_type": "code",
      "source": [
        "resnet_50=ResNet(block,[3,4,6,3],4)\n",
        "x=torch.randn(2,3,224,224)\n",
        "y=resnet_50(x)\n",
        "print(y.shape\n",
        "      )"
      ],
      "metadata": {
        "id": "UIIuIJtJaqUk",
        "colab": {
          "base_uri": "https://localhost:8080/"
        },
        "outputId": "2af6ceb8-5dd9-4624-d5a2-3882c226cb5e"
      },
      "execution_count": 31,
      "outputs": [
        {
          "output_type": "stream",
          "name": "stdout",
          "text": [
            "torch.Size([2, 4])\n"
          ]
        }
      ]
    },
    {
      "cell_type": "code",
      "source": [
        "lrs=[0.00001,0.0001]\n",
        "epochs=[40,50]\n",
        "resnet_loss=[]\n",
        "models=[]\n",
        "accuracies=[]\n",
        "best_epoch=0\n",
        "best_lr=0\n",
        "best_accuracy=0"
      ],
      "metadata": {
        "id": "__idNqujd3VR"
      },
      "execution_count": 32,
      "outputs": []
    },
    {
      "cell_type": "code",
      "source": [
        "best_resnet_model,resnet_loss,resnet_accuracies=train(lrs,epochs,train_loader,valid_loader,'resnet',device)"
      ],
      "metadata": {
        "id": "k_bz1nXjLIi8",
        "colab": {
          "base_uri": "https://localhost:8080/"
        },
        "outputId": "61378eef-4aca-497e-827d-ba9c69f65f7a"
      },
      "execution_count": null,
      "outputs": [
        {
          "output_type": "stream",
          "name": "stdout",
          "text": [
            "Training with Learning Rate = 1e-05 and Epochs = 40\n",
            "Epoch = 10/40 | Learning Rate = 1e-05 | Loss = 1.3344\n",
            "Epoch = 20/40 | Learning Rate = 1e-05 | Loss = 1.2870\n",
            "Epoch = 30/40 | Learning Rate = 1e-05 | Loss = 1.2241\n",
            "Epoch = 40/40 | Learning Rate = 1e-05 | Loss = 1.1639\n",
            "Validation Accuracy = 36.11%\n",
            "Training with Learning Rate = 1e-05 and Epochs = 50\n",
            "Epoch = 10/50 | Learning Rate = 1e-05 | Loss = 1.3390\n",
            "Epoch = 20/50 | Learning Rate = 1e-05 | Loss = 1.2595\n",
            "Epoch = 30/50 | Learning Rate = 1e-05 | Loss = 1.1970\n",
            "Epoch = 40/50 | Learning Rate = 1e-05 | Loss = 1.1339\n",
            "Epoch = 50/50 | Learning Rate = 1e-05 | Loss = 1.0689\n",
            "Validation Accuracy = 36.11%\n",
            "Training with Learning Rate = 0.0001 and Epochs = 40\n",
            "Epoch = 10/40 | Learning Rate = 0.0001 | Loss = 1.3072\n",
            "Epoch = 20/40 | Learning Rate = 0.0001 | Loss = 1.0761\n",
            "Epoch = 30/40 | Learning Rate = 0.0001 | Loss = 0.9792\n",
            "Epoch = 40/40 | Learning Rate = 0.0001 | Loss = 0.7747\n",
            "Validation Accuracy = 22.22%\n",
            "Training with Learning Rate = 0.0001 and Epochs = 50\n",
            "Epoch = 10/50 | Learning Rate = 0.0001 | Loss = 1.3295\n",
            "Epoch = 20/50 | Learning Rate = 0.0001 | Loss = 1.1291\n",
            "Epoch = 30/50 | Learning Rate = 0.0001 | Loss = 0.9302\n",
            "Epoch = 40/50 | Learning Rate = 0.0001 | Loss = 0.7652\n"
          ]
        }
      ]
    },
    {
      "cell_type": "code",
      "source": [
        "best_index=resnet_accuracies.index(max(resnet_accuracies))\n",
        "best_loss=resnet_loss[best_index]"
      ],
      "metadata": {
        "id": "siylt5B0kjEE"
      },
      "execution_count": null,
      "outputs": []
    },
    {
      "cell_type": "code",
      "source": [
        "print(f\"Best model at index {best_index} with Accuracy = {resnet_accuracies[best_index]:.2f}%\")\n",
        "torch.save(best_resnet_model.state_dict(), 'best_resnet_model.pth')"
      ],
      "metadata": {
        "id": "eYeUcgVwkqzo"
      },
      "execution_count": null,
      "outputs": []
    },
    {
      "cell_type": "code",
      "source": [
        "labels,preds=test(best_resnet_model,test_loader,device)\n"
      ],
      "metadata": {
        "id": "NjLB8BMQOMuz"
      },
      "execution_count": null,
      "outputs": []
    },
    {
      "cell_type": "code",
      "source": [
        "plot_loss(best_loss,len(train_loader),resnet_accuracies)\n"
      ],
      "metadata": {
        "id": "_mxn0PYlOObq"
      },
      "execution_count": null,
      "outputs": []
    },
    {
      "cell_type": "code",
      "source": [
        "metrics(best_resnet_model,labels,preds)\n"
      ],
      "metadata": {
        "id": "TNlTpTc6OPhM"
      },
      "execution_count": null,
      "outputs": []
    },
    {
      "cell_type": "code",
      "source": [
        "test_images(test_dataset,class_names,preds)"
      ],
      "metadata": {
        "id": "AslgseESOQrn"
      },
      "execution_count": null,
      "outputs": []
    },
    {
      "cell_type": "markdown",
      "source": [
        "**Inception V3**"
      ],
      "metadata": {
        "id": "RvbeCD2oPd_Z"
      }
    },
    {
      "cell_type": "markdown",
      "source": [
        "![Alt text](https://miro.medium.com/v2/resize:fit:1100/format:webp/1*uVRWg5TG5_3W18qdhpo3XQ.png)"
      ],
      "metadata": {
        "id": "WhJrHSObQFFF"
      }
    },
    {
      "cell_type": "markdown",
      "source": [
        "Stem Block"
      ],
      "metadata": {
        "id": "Q88vNcurQSKH"
      }
    },
    {
      "cell_type": "markdown",
      "source": [
        "![Alt text](https://miro.medium.com/v2/resize:fit:1100/format:webp/1*hPGOjojFtkUjKMqae82Oyg.jpeg)\n",
        "\n",
        "\n",
        "\n"
      ],
      "metadata": {
        "id": "Dj1kaCWWQUly"
      }
    },
    {
      "cell_type": "markdown",
      "source": [
        "![Alt text](https://miro.medium.com/v2/resize:fit:1100/format:webp/1*EXFJ5rRi0Pv4DgVUfydPMg.jpeg)"
      ],
      "metadata": {
        "id": "O89tARQ5S89Z"
      }
    },
    {
      "cell_type": "code",
      "source": [
        "class conv_block(nn.Module):\n",
        "    def __init__(self , in_channels , out_channels , kernel_size , stride =1, padding=0):\n",
        "        super().__init__()\n",
        "        self.relu=nn.ReLU()\n",
        "        self.conv = nn.Conv2d(in_channels , out_channels , kernel_size , stride , padding)\n",
        "        self.batchnorm=nn.BatchNorm2d(out_channels)\n",
        "    def forward(self,x):\n",
        "        return self.relu(self.batchnorm(self.conv(x)))"
      ],
      "metadata": {
        "id": "8NqghjRHP6Dj"
      },
      "execution_count": null,
      "outputs": []
    },
    {
      "cell_type": "code",
      "source": [
        "class Stem(nn.Module):\n",
        "    def __init__(self):\n",
        "        super().__init__()\n",
        "        self.block=nn.Sequential(\n",
        "        conv_block(3,32,3,2,0),\n",
        "        conv_block(32,32,3,1,0),\n",
        "        conv_block(32,64,3,1,1),\n",
        "        nn.MaxPool2d(kernel_size=(3,3) , stride=(2,2)),\n",
        "        conv_block(64,80,3,1,0),\n",
        "        conv_block(80,192,3,1,1),\n",
        "        nn.MaxPool2d(kernel_size=(3,3) , stride=(2,2))\n",
        "\n",
        "        )\n",
        "\n",
        "    def forward(self,x):\n",
        "\n",
        "        return self.block(x)"
      ],
      "metadata": {
        "id": "_VcoGi0GT_Ug"
      },
      "execution_count": null,
      "outputs": []
    },
    {
      "cell_type": "code",
      "source": [
        "class InceptionA(nn.Module):\n",
        "    def __init__(self,input_channels,output_channels):\n",
        "        super().__init__()\n",
        "        self.branch1=nn.Sequential(\n",
        "            conv_block(input_channels,64,kernel_size=1,stride=1,padding=0),\n",
        "            conv_block(64,96,kernel_size=3,stride=1,padding=1),\n",
        "            conv_block(96,96,kernel_size=3,stride=1,padding=1),\n",
        "\n",
        "        )\n",
        "        self.branch2=nn.Sequential(\n",
        "            conv_block(input_channels,48,kernel_size=1),\n",
        "            conv_block(48,64,kernel_size=3,padding=1),\n",
        "\n",
        "        )\n",
        "        self.branch3=nn.Sequential(\n",
        "            nn.AvgPool2d(kernel_size=3,stride=1,padding=1),\n",
        "            conv_block(input_channels,64,kernel_size=1),\n",
        "\n",
        "        )\n",
        "        self.branch4=nn.Sequential(\n",
        "            conv_block(input_channels,64,kernel_size=1),\n",
        "\n",
        "        )\n",
        "\n",
        "    def forward(self,x):\n",
        "        output1=self.branch1(x)\n",
        "        output2=self.branch2(x)\n",
        "        output3=self.branch3(x)\n",
        "        output4=self.branch4(x)\n",
        "        return torch.cat([output1,output2,output3,output4],dim=1)\n",
        "\n",
        "\n"
      ],
      "metadata": {
        "id": "qA4YRBebUI6U"
      },
      "execution_count": null,
      "outputs": []
    },
    {
      "cell_type": "code",
      "source": [
        "class InceptionB(nn.Module):\n",
        "    def __init__(self,input_channels,output_channels):\n",
        "        super().__init__()\n",
        "        self.branch1=nn.Sequential(\n",
        "            conv_block(input_channels,192,1)\n",
        "            )\n",
        "\n",
        "        self.branch2=nn.Sequential(\n",
        "            conv_block(input_channels,output_channels,1),\n",
        "            conv_block(output_channels,output_channels,(1,7),padding=(0,3)),\n",
        "            conv_block(output_channels , 192 , (7,1)  ,padding= (3,0)),\n",
        "\n",
        "        )\n",
        "        self.branch3 = nn.Sequential(\n",
        "        conv_block(input_channels , output_channels , 1 , 1 , 0),\n",
        "        conv_block(output_channels , output_channels , (7,1) , 1 , (0,3)),\n",
        "        conv_block(output_channels , output_channels , (1,7) , 1 , (3,0)),\n",
        "        conv_block(output_channels , output_channels , (7,1) , 1 , (0,3)),\n",
        "        conv_block(output_channels , 192 , (1,7) , 1 , (3,0)),\n",
        "    )\n",
        "        self.branch4 = nn.Sequential(\n",
        "        nn.AvgPool2d(kernel_size=(3,3) , stride=1 , padding=1),\n",
        "        conv_block(input_channels , 192 , 1 , 1 , 0)\n",
        "    )\n",
        "\n",
        "    def forward(self,x):\n",
        "        output1=self.branch1(x)\n",
        "        output2=self.branch2(x)\n",
        "        output3=self.branch3(x)\n",
        "        output4=self.branch4(x)\n",
        "        return torch.cat([output1,output2,output3,output4],dim=1)\n",
        "\n",
        "\n"
      ],
      "metadata": {
        "id": "9yoxmehZUK90"
      },
      "execution_count": null,
      "outputs": []
    },
    {
      "cell_type": "code",
      "source": [
        "class InceptionC(nn.Module):\n",
        "    def __init__(self,input_channels):\n",
        "        super().__init__()\n",
        "        self.branch1=nn.Sequential(\n",
        "            conv_block(input_channels,448,1),\n",
        "            conv_block(448,384,3,padding=1),\n",
        "\n",
        "\n",
        "        )\n",
        "        self.branch11=conv_block(384,384,kernel_size=(1,3),padding=(0,1))\n",
        "        self.branch12=conv_block(384,384,kernel_size=(3,1),padding=(1,0))\n",
        "        self.branch2=conv_block(input_channels,384,1)\n",
        "        self.branch21=conv_block(384,384,kernel_size=(3,1),padding=(1,0))\n",
        "        self.branch22=conv_block(384,384,kernel_size=(1,3),padding=(0,1))\n",
        "\n",
        "        self.branch3=nn.Sequential(\n",
        "            nn.AvgPool2d(kernel_size=3,stride=1,padding=1),\n",
        "           conv_block(input_channels,192,1),\n",
        "        )\n",
        "        self.branch4=conv_block(input_channels,320,1)\n",
        "\n",
        "    def forward(self,x):\n",
        "        output1=self.branch1(x)\n",
        "        output11=self.branch11(output1)\n",
        "        output12=self.branch12(output1)\n",
        "        output2=self.branch2(x)\n",
        "        output21=self.branch21(output2)\n",
        "        output22=self.branch22(output2)\n",
        "        output3=self.branch3(x)\n",
        "        output4=self.branch4(x)\n",
        "        return torch.cat([output11,output12,output21,output22,output3,output4],dim=1)\n",
        "\n",
        "\n"
      ],
      "metadata": {
        "id": "kAB5tj2-UM-_"
      },
      "execution_count": null,
      "outputs": []
    },
    {
      "cell_type": "code",
      "source": [
        "class ReductionA(nn.Module):\n",
        "    def __init__(self,input_channels):\n",
        "        super().__init__()\n",
        "\n",
        "        self.branch1=nn.Sequential(\n",
        "            conv_block(input_channels,64,1),\n",
        "            conv_block(64,96,3,padding=1),\n",
        "            conv_block(96,96,3,2,0)\n",
        "\n",
        "        )\n",
        "        self.branch2=nn.Sequential(\n",
        "            conv_block(input_channels,384,3,stride=2),\n",
        "        )\n",
        "        self.branch3=nn.Sequential(\n",
        "            nn.MaxPool2d(kernel_size=3,stride=2)\n",
        "        )\n",
        "    def forward(self,x):\n",
        "        output1=self.branch1(x)\n",
        "        output2=self.branch2(x)\n",
        "        output3=self.branch3(x)\n",
        "        return torch.cat([output1,output2,output3],dim=1)\n",
        "\n"
      ],
      "metadata": {
        "id": "qNao2cawUObg"
      },
      "execution_count": null,
      "outputs": []
    },
    {
      "cell_type": "code",
      "source": [
        "class ReductionB(nn.Module):\n",
        "    def __init__(self,input_channels):\n",
        "        super().__init__()\n",
        "\n",
        "        self.branch1 = nn.Sequential(\n",
        "        conv_block(input_channels , 192 , 1 , 1 , 0),\n",
        "        conv_block(192 , 192 , (1,7) , 1 , (3,0)),\n",
        "        conv_block(192 , 192 , (7,1) , 1 , (0,3)),\n",
        "\n",
        "        conv_block(192 , 192 , 3 , 2, 0),\n",
        "    )\n",
        "        self.branch2=nn.Sequential(\n",
        "            conv_block(input_channels , 192 , 1 , 1 , 0),\n",
        "            conv_block(192 , 320 , 3 , 2 , 0),\n",
        "        )\n",
        "        self.branch3=nn.Sequential(\n",
        "            nn.MaxPool2d(kernel_size=3,stride=2)\n",
        "        )\n",
        "    def forward(self,x):\n",
        "        output1=self.branch1(x)\n",
        "        output2=self.branch2(x)\n",
        "        output3=self.branch3(x)\n",
        "        return torch.cat([output1,output2,output3],dim=1)\n",
        "\n"
      ],
      "metadata": {
        "id": "4iMRDF7TUTNv"
      },
      "execution_count": null,
      "outputs": []
    },
    {
      "cell_type": "code",
      "source": [
        "class AuxBlock(nn.Module):\n",
        "    def __init__(self,input_channels):\n",
        "        super().__init__()\n",
        "        self.block=nn.Sequential(\n",
        "            nn.AvgPool2d(kernel_size=5,padding=2,stride=1),\n",
        "            conv_block(input_channels , 128 , 1 , 1 , 0),\n",
        "            conv_block(128 , 768 , 5 , 1 , 0),\n",
        "\n",
        "        )\n",
        "        self.linear=nn.Sequential(\n",
        "            nn.Linear(in_features= 49152 , out_features= 1024),\n",
        "            nn.ReLU(),\n",
        "            nn.Linear(in_features= 1024 , out_features= 4),\n",
        "            #nn.Softmax(dim=1)\n",
        "\n",
        "        )\n",
        "\n",
        "    def forward(self,x):\n",
        "            x=self.block(x)\n",
        "            x=torch.flatten(x,1)\n",
        "            out=self.linear(x)\n",
        "            return out\n",
        "\n",
        "\n",
        "\n"
      ],
      "metadata": {
        "id": "t7sPf113UTtr"
      },
      "execution_count": null,
      "outputs": []
    },
    {
      "cell_type": "code",
      "source": [
        "class InceptionV3(nn.Module):\n",
        "  def __init__(self):\n",
        "    super(InceptionV3 , self).__init__()\n",
        "    #print(\"ana hena\")\n",
        "    self.block=nn.Sequential(\n",
        "       Stem(),\n",
        "       InceptionA(192 , 32),\n",
        "       InceptionA(288 , 64),\n",
        "       InceptionA(288 , 64),\n",
        "       ReductionA(288),\n",
        "       InceptionB(768 , 128),\n",
        "       InceptionB(768 , 160),\n",
        "       InceptionB(768 , 160),\n",
        "       InceptionB(768 , 192),\n",
        "\n",
        "\n",
        "    )\n",
        "    self.aux=nn.Sequential(\n",
        "        AuxBlock(768),\n",
        "    )\n",
        "    self.block2=nn.Sequential(\n",
        "      ReductionB(768),\n",
        "      InceptionC(1280),\n",
        "      InceptionC(2048),\n",
        "      nn.AdaptiveAvgPool2d((1, 1))\n",
        "    )\n",
        "\n",
        "    self.linear=nn.Sequential(\n",
        "       nn.Linear(in_features=2048 ,out_features= 2048),\n",
        "       nn.ReLU(),\n",
        "       nn.Linear(in_features=2048 , out_features= 4),\n",
        "      # nn.Softmax()\n",
        "    )\n",
        "\n",
        "  def forward(self , x):\n",
        "    out=self.block(x)\n",
        "    aux=self.aux(out)\n",
        "    out=self.block2(out)\n",
        "    out=torch.flatten(out,1)\n",
        "    out=self.linear(out)\n",
        "    return out"
      ],
      "metadata": {
        "id": "qNZXt4LMUVur"
      },
      "execution_count": null,
      "outputs": []
    },
    {
      "cell_type": "code",
      "source": [
        "inception=InceptionV3()\n",
        "x=torch.randn(2,3,224,224)\n",
        "print(inception(x))\n",
        "\n"
      ],
      "metadata": {
        "id": "P75MUJnVVyIA"
      },
      "execution_count": null,
      "outputs": []
    },
    {
      "cell_type": "code",
      "source": [
        "best_inception_model,inception_loss,inception_accuracies=train(lrs,epochs,train_loader,valid_loader,'inception',device)"
      ],
      "metadata": {
        "id": "HeoxCC8KWA9e"
      },
      "execution_count": null,
      "outputs": []
    },
    {
      "cell_type": "code",
      "source": [
        "best_index=inception_accuracies.index(max(inception_accuracies))\n",
        "best_loss=inception_loss[best_index]\n",
        "print(f\"Best model at index {best_index} with Accuracy = {inception_accuracies[best_index]:.2f}%\")\n"
      ],
      "metadata": {
        "id": "Mvc2GP64aWRu"
      },
      "execution_count": null,
      "outputs": []
    },
    {
      "cell_type": "code",
      "source": [
        "torch.save(best_inception_model.state_dict(), 'best_inception_model.pth')\n",
        "plot_loss(best_loss,len(train_loader),inception_accuracies)"
      ],
      "metadata": {
        "id": "AD-cE-lLepP1"
      },
      "execution_count": null,
      "outputs": []
    },
    {
      "cell_type": "code",
      "source": [
        "labels,preds=test(best_inception_model,test_loader,device)"
      ],
      "metadata": {
        "id": "pMo-x85ze5ko"
      },
      "execution_count": null,
      "outputs": []
    },
    {
      "cell_type": "code",
      "source": [
        "metrics(best_inception_model,labels,preds)"
      ],
      "metadata": {
        "id": "29tAG1Qme7Sh"
      },
      "execution_count": null,
      "outputs": []
    },
    {
      "cell_type": "code",
      "source": [
        "test_images(test_dataset,class_names,preds)"
      ],
      "metadata": {
        "id": "TrXfqqf3e8kq"
      },
      "execution_count": null,
      "outputs": []
    },
    {
      "cell_type": "code",
      "source": [
        "len(vgg_accuracies)"
      ],
      "metadata": {
        "id": "Moe8p6Jqe9Lc"
      },
      "execution_count": null,
      "outputs": []
    },
    {
      "cell_type": "code",
      "source": [],
      "metadata": {
        "id": "aGx0-FMlw7lH"
      },
      "execution_count": null,
      "outputs": []
    }
  ]
}